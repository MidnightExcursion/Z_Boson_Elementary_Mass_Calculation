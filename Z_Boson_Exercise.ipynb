{
 "cells": [
  {
   "cell_type": "markdown",
   "metadata": {},
   "source": [
    "In the following exercise, we will use open data provided by the Compact Muon Solenoid (CMS) experiment to extract various properties of the Z Boson. Our objectives are (1) find the Z Boson in the data, (2) measure its mass, and (3) determine the lifetime of the particle. We will subsequently compare the values we measured to the \"known\" values."
   ]
  },
  {
   "cell_type": "markdown",
   "metadata": {},
   "source": [
    "# Step 1: Watch a Video until 1:15"
   ]
  },
  {
   "cell_type": "code",
   "execution_count": 1,
   "metadata": {},
   "outputs": [
    {
     "name": "stderr",
     "output_type": "stream",
     "text": [
      "/home/idies/miniconda3/envs/py37/lib/python3.7/site-packages/IPython/core/display.py:694: UserWarning: Consider using IPython.display.IFrame instead\n",
      "  warnings.warn(\"Consider using IPython.display.IFrame instead\")\n"
     ]
    },
    {
     "data": {
      "text/html": [
       "<iframe width=\"560\" height=\"315\" src=\"https://www.youtube.com/embed/pQhbhpU9Wrg\" frameborder=\"0\" allow=\"accelerometer; autoplay; encrypted-media; gyroscope; picture-in-picture\" allowfullscreen></iframe>"
      ],
      "text/plain": [
       "<IPython.core.display.HTML object>"
      ]
     },
     "execution_count": 1,
     "metadata": {},
     "output_type": "execute_result"
    }
   ],
   "source": [
    "from IPython.display import HTML\n",
    "HTML('<iframe width=\"560\" height=\"315\" src=\"https://www.youtube.com/embed/pQhbhpU9Wrg\" frameborder=\"0\" allow=\"accelerometer; autoplay; encrypted-media; gyroscope; picture-in-picture\" allowfullscreen></iframe>')"
   ]
  },
  {
   "cell_type": "markdown",
   "metadata": {},
   "source": [
    "In this video, several animations are played in sequence to demonstrate all the steps of how protons are collected from containers of Hydrogen and ultimatley sent through to the LHC accompanied with some nasty Dubstep music. What's not to love about this video? Unfortunately, many of the animations in the video run through the particular names of each apparatus too quickly for the viewer to read. However, in the context of \"watch this video until 1:15 after having read the several paragraphs before this prompt\", the video serves as a recap of the content and not as an explanatory device."
   ]
  },
  {
   "cell_type": "markdown",
   "metadata": {},
   "source": [
    "### Question 1: Describe behavior and detection of Muons in CMS"
   ]
  },
  {
   "cell_type": "markdown",
   "metadata": {},
   "source": [
    "Muons are weakly-interacting particles. Their detection relies not on detection in the Electromagnetic Calorimeter (ECAL) or Hadron Calorimeter (HCAL), but on several \"Muon chambers\" that are located \"behind\" the ECAL and HCAL detectors. Since Muons are negatively charged, they will interact with the magnetic field according to the Lorentz Force Law, $\\textbf{F} = q \\textbf{v} \\times \\textbf{B}$, and thus their trajectories will curve. CMS measures the momentum of the Muons through their interaction with the Muon chambers, but the energy of the Muons must be \"reconstructed\" by measuring other quantities and then \"working backwards\" to obtain the energy."
   ]
  },
  {
   "cell_type": "markdown",
   "metadata": {},
   "source": [
    "### Question 2: Calculate the Z Boson Invariant Mass using Detection of two Muons"
   ]
  },
  {
   "cell_type": "markdown",
   "metadata": {},
   "source": [
    "We normally use 4-vectors to write the momentum and energy of a particle: $p^{\\mu} = (\\frac{E}{c}, \\textbf{p})$. So, conservation of energy and momentum can be succinctly expressed as: $p_{Z}^{\\mu} = p_{\\mu_{1}}^{\\mu} + p_{\\mu_{2}}^{\\mu}$. If we square both sides and perform a lot of algebra, we will eventually end up with an expression that relates the energies of the Muons to the invariant mass, $M$. That equation is $M = \\sqrt{2 E_{1} E_{2} (1 - cos \\theta)}$. It is customary to, instead of using the spherical angle $\\theta$, define the pseudorapidity as $\\eta$ as $\\eta \\equiv - ln (tan \\theta )$. With this and the standard azimuthal angle in spherical coordinates $\\phi$, the equation above is rewritten as $M = \\sqrt{ 2 p_{T_{2}} p_{T_{1}} (cosh(\\eta_{1} - \\eta_{2}) - cos(\\phi_{1} - \\phi_{2})) }$ where $p_{T_{j}}$ is the transverse momentum of the $j-$th particle. We apply this equation below to calculate the invariant mass."
   ]
  },
  {
   "cell_type": "code",
   "execution_count": 2,
   "metadata": {},
   "outputs": [],
   "source": [
    "import numpy as np\n",
    "import pandas as pd\n",
    "import astropy as ap\n",
    "import matplotlib.pyplot as plt"
   ]
  },
  {
   "cell_type": "code",
   "execution_count": 3,
   "metadata": {},
   "outputs": [],
   "source": [
    "muon_1_transverse_momentum = 58.6941\n",
    "muon_1_pseudorapidity = -1.02101\n",
    "muon_1_azimuthal_angle_in_radians = 0.836256\n",
    "muon_2_transverse_momentum = 45.7231\n",
    "muon_2_pseudorapidity = -0.37030\n",
    "muon_2_azimuthal_angle_in_radians = 2.741820"
   ]
  },
  {
   "cell_type": "markdown",
   "metadata": {},
   "source": [
    "Before we do anything more, we need to recall if np.trig() evaluates in terms of radians or degrees."
   ]
  },
  {
   "cell_type": "code",
   "execution_count": 4,
   "metadata": {},
   "outputs": [
    {
     "name": "stdout",
     "output_type": "stream",
     "text": [
      "1.0 0.5403023058681398 0.0 0.8414709848078965\n",
      "1.0 1.5430806348152437 0.0 1.1752011936438014\n"
     ]
    }
   ],
   "source": [
    "print(np.cos(0), np.cos(1), np.sin(0), np.sin(1))\n",
    "print(np.cosh(0), np.cosh(1), np.sinh(0), np.sinh(1))"
   ]
  },
  {
   "cell_type": "markdown",
   "metadata": {},
   "source": [
    "The fact that np.cos(1) and np.cosh(1) evaluates to $0.5403...$  and $1.543...$ is evidence that these functions are taking in radians. Thus, we don't need to worry about converting our given quantities to degrees in the following calculations. "
   ]
  },
  {
   "cell_type": "markdown",
   "metadata": {},
   "source": [
    "We now consider the units of the invariant mass. Since the quantity $cosh(\\eta_{1} - \\eta_{2}) - cos(\\phi_{1} - \\phi_{2})$ has no units, the units come directly from the product of the transverse momenta, $p_{T_{j}}$. Since the quantites are given with units of $GeV/c$, we know that the units of the invariant mass will be $GeV/c$. This is eludicated by considering the product of $p_{T1}$ and $p_{T2}$, producing units of $(GeV/c)^{2}$, and then taking the square root of this, which will return $GeV/c$, of course. Does this make sense? From $E = mc^{2}$, we know that mass can be expressed in terms of energy divided by the speed of light. Thus, we conclude that this operation will give us a number with the units of mass. Now, we perform the operation."
   ]
  },
  {
   "cell_type": "code",
   "execution_count": 5,
   "metadata": {},
   "outputs": [
    {
     "name": "stdout",
     "output_type": "stream",
     "text": [
      "We calculated the invariant mass to be 91.14709147440797 MeV/c.\n"
     ]
    }
   ],
   "source": [
    "invariant_mass = np.sqrt(\n",
    "    2 * muon_1_transverse_momentum * muon_2_transverse_momentum * \n",
    "    (np.cosh(muon_1_pseudorapidity - muon_2_pseudorapidity) - \n",
    "     np.cos(muon_1_azimuthal_angle_in_radians - muon_2_azimuthal_angle_in_radians)))\n",
    "print(f\"We calculated the invariant mass to be {invariant_mass} MeV/c.\")"
   ]
  },
  {
   "cell_type": "markdown",
   "metadata": {},
   "source": [
    "According to the Particle Data Group (PDG), the mass of the $Z$ Boson is reported to be $91.1876 \\pm 0.0021$GeV (resource available at [https://pdg.lbl.gov/2022/tables/contents_tables.html]). Of course, it's clear here that they've set $c = 1$, like many particle physicist do. How close were we?"
   ]
  },
  {
   "cell_type": "code",
   "execution_count": 6,
   "metadata": {},
   "outputs": [
    {
     "name": "stdout",
     "output_type": "stream",
     "text": [
      "We were within 0.04442328298149224% of the value of the Z Boson mass as reported by PDG.\n"
     ]
    }
   ],
   "source": [
    "pdg_z_boson_mass = 91.1876\n",
    "print(f\"We were within {np.abs(invariant_mass - pdg_z_boson_mass)/pdg_z_boson_mass * 100}% of the value of the Z Boson mass as reported by PDG.\")"
   ]
  },
  {
   "cell_type": "markdown",
   "metadata": {},
   "source": [
    "### Question 3: Data Analysis"
   ]
  },
  {
   "cell_type": "markdown",
   "metadata": {},
   "source": [
    "First, we obtain a comma-separated value (CSV) file containing tons of data of pairs of Muons detected in the Muon chambers. We can do this using Pandas' read_csv() method and reading the file directly off of GitHub."
   ]
  },
  {
   "cell_type": "code",
   "execution_count": 7,
   "metadata": {},
   "outputs": [],
   "source": [
    "ds = pd.read_csv(\"https://raw.githubusercontent.com/cms-opendata-education/zboson-exercise/master/DoubleMuRun2011A.csv\")"
   ]
  },
  {
   "cell_type": "markdown",
   "metadata": {},
   "source": [
    "We use the Pandas method head() to obtain the first five rows of this file. (If we printed any more, we'd risk setting our computer on fire.)"
   ]
  },
  {
   "cell_type": "code",
   "execution_count": 8,
   "metadata": {},
   "outputs": [
    {
     "data": {
      "text/html": [
       "<div>\n",
       "<style scoped>\n",
       "    .dataframe tbody tr th:only-of-type {\n",
       "        vertical-align: middle;\n",
       "    }\n",
       "\n",
       "    .dataframe tbody tr th {\n",
       "        vertical-align: top;\n",
       "    }\n",
       "\n",
       "    .dataframe thead th {\n",
       "        text-align: right;\n",
       "    }\n",
       "</style>\n",
       "<table border=\"1\" class=\"dataframe\">\n",
       "  <thead>\n",
       "    <tr style=\"text-align: right;\">\n",
       "      <th></th>\n",
       "      <th>Run</th>\n",
       "      <th>Event</th>\n",
       "      <th>Type1</th>\n",
       "      <th>E1</th>\n",
       "      <th>px1</th>\n",
       "      <th>py1</th>\n",
       "      <th>pz1</th>\n",
       "      <th>pt1</th>\n",
       "      <th>eta1</th>\n",
       "      <th>phi1</th>\n",
       "      <th>...</th>\n",
       "      <th>Type2</th>\n",
       "      <th>E2</th>\n",
       "      <th>px2</th>\n",
       "      <th>py2</th>\n",
       "      <th>pz2</th>\n",
       "      <th>pt2</th>\n",
       "      <th>eta2</th>\n",
       "      <th>phi2</th>\n",
       "      <th>Q2</th>\n",
       "      <th>M</th>\n",
       "    </tr>\n",
       "  </thead>\n",
       "  <tbody>\n",
       "    <tr>\n",
       "      <td>0</td>\n",
       "      <td>165617</td>\n",
       "      <td>74601703</td>\n",
       "      <td>G</td>\n",
       "      <td>9.69873</td>\n",
       "      <td>-9.510430</td>\n",
       "      <td>0.366205</td>\n",
       "      <td>1.86329</td>\n",
       "      <td>9.51748</td>\n",
       "      <td>0.194546</td>\n",
       "      <td>3.10311</td>\n",
       "      <td>...</td>\n",
       "      <td>G</td>\n",
       "      <td>9.76332</td>\n",
       "      <td>7.327710</td>\n",
       "      <td>-1.152370</td>\n",
       "      <td>6.34728</td>\n",
       "      <td>7.41776</td>\n",
       "      <td>0.775564</td>\n",
       "      <td>-0.155984</td>\n",
       "      <td>1</td>\n",
       "      <td>17.49220</td>\n",
       "    </tr>\n",
       "    <tr>\n",
       "      <td>1</td>\n",
       "      <td>165617</td>\n",
       "      <td>75100943</td>\n",
       "      <td>G</td>\n",
       "      <td>6.20385</td>\n",
       "      <td>-4.266610</td>\n",
       "      <td>0.456545</td>\n",
       "      <td>-4.47930</td>\n",
       "      <td>4.29097</td>\n",
       "      <td>-0.912070</td>\n",
       "      <td>3.03499</td>\n",
       "      <td>...</td>\n",
       "      <td>G</td>\n",
       "      <td>9.66898</td>\n",
       "      <td>7.273970</td>\n",
       "      <td>-2.821120</td>\n",
       "      <td>-5.71040</td>\n",
       "      <td>7.80188</td>\n",
       "      <td>-0.678625</td>\n",
       "      <td>-0.369977</td>\n",
       "      <td>1</td>\n",
       "      <td>11.55340</td>\n",
       "    </tr>\n",
       "    <tr>\n",
       "      <td>2</td>\n",
       "      <td>165617</td>\n",
       "      <td>75587682</td>\n",
       "      <td>G</td>\n",
       "      <td>19.28920</td>\n",
       "      <td>-4.212080</td>\n",
       "      <td>-0.651623</td>\n",
       "      <td>18.81210</td>\n",
       "      <td>4.26219</td>\n",
       "      <td>2.190460</td>\n",
       "      <td>-2.98811</td>\n",
       "      <td>...</td>\n",
       "      <td>G</td>\n",
       "      <td>9.82439</td>\n",
       "      <td>4.343940</td>\n",
       "      <td>-0.473505</td>\n",
       "      <td>8.79849</td>\n",
       "      <td>4.36967</td>\n",
       "      <td>1.449670</td>\n",
       "      <td>-0.108575</td>\n",
       "      <td>1</td>\n",
       "      <td>9.16361</td>\n",
       "    </tr>\n",
       "    <tr>\n",
       "      <td>3</td>\n",
       "      <td>165617</td>\n",
       "      <td>75660978</td>\n",
       "      <td>G</td>\n",
       "      <td>7.04268</td>\n",
       "      <td>-6.326780</td>\n",
       "      <td>-0.268545</td>\n",
       "      <td>3.08025</td>\n",
       "      <td>6.33248</td>\n",
       "      <td>0.469033</td>\n",
       "      <td>-3.09917</td>\n",
       "      <td>...</td>\n",
       "      <td>G</td>\n",
       "      <td>5.58571</td>\n",
       "      <td>4.474760</td>\n",
       "      <td>0.848935</td>\n",
       "      <td>-3.23185</td>\n",
       "      <td>4.55458</td>\n",
       "      <td>-0.660499</td>\n",
       "      <td>0.187488</td>\n",
       "      <td>1</td>\n",
       "      <td>12.47740</td>\n",
       "    </tr>\n",
       "    <tr>\n",
       "      <td>4</td>\n",
       "      <td>165617</td>\n",
       "      <td>75947690</td>\n",
       "      <td>G</td>\n",
       "      <td>7.27507</td>\n",
       "      <td>0.102966</td>\n",
       "      <td>-5.533080</td>\n",
       "      <td>-4.72122</td>\n",
       "      <td>5.53403</td>\n",
       "      <td>-0.773616</td>\n",
       "      <td>-1.55219</td>\n",
       "      <td>...</td>\n",
       "      <td>G</td>\n",
       "      <td>7.31811</td>\n",
       "      <td>-0.398831</td>\n",
       "      <td>6.940810</td>\n",
       "      <td>2.28247</td>\n",
       "      <td>6.95226</td>\n",
       "      <td>0.322677</td>\n",
       "      <td>1.628190</td>\n",
       "      <td>1</td>\n",
       "      <td>14.31590</td>\n",
       "    </tr>\n",
       "  </tbody>\n",
       "</table>\n",
       "<p>5 rows × 21 columns</p>\n",
       "</div>"
      ],
      "text/plain": [
       "      Run     Event Type1        E1       px1       py1       pz1      pt1  \\\n",
       "0  165617  74601703     G   9.69873 -9.510430  0.366205   1.86329  9.51748   \n",
       "1  165617  75100943     G   6.20385 -4.266610  0.456545  -4.47930  4.29097   \n",
       "2  165617  75587682     G  19.28920 -4.212080 -0.651623  18.81210  4.26219   \n",
       "3  165617  75660978     G   7.04268 -6.326780 -0.268545   3.08025  6.33248   \n",
       "4  165617  75947690     G   7.27507  0.102966 -5.533080  -4.72122  5.53403   \n",
       "\n",
       "       eta1     phi1  ...  Type2       E2       px2       py2      pz2  \\\n",
       "0  0.194546  3.10311  ...      G  9.76332  7.327710 -1.152370  6.34728   \n",
       "1 -0.912070  3.03499  ...      G  9.66898  7.273970 -2.821120 -5.71040   \n",
       "2  2.190460 -2.98811  ...      G  9.82439  4.343940 -0.473505  8.79849   \n",
       "3  0.469033 -3.09917  ...      G  5.58571  4.474760  0.848935 -3.23185   \n",
       "4 -0.773616 -1.55219  ...      G  7.31811 -0.398831  6.940810  2.28247   \n",
       "\n",
       "       pt2      eta2      phi2  Q2         M  \n",
       "0  7.41776  0.775564 -0.155984   1  17.49220  \n",
       "1  7.80188 -0.678625 -0.369977   1  11.55340  \n",
       "2  4.36967  1.449670 -0.108575   1   9.16361  \n",
       "3  4.55458 -0.660499  0.187488   1  12.47740  \n",
       "4  6.95226  0.322677  1.628190   1  14.31590  \n",
       "\n",
       "[5 rows x 21 columns]"
      ]
     },
     "execution_count": 8,
     "metadata": {},
     "output_type": "execute_result"
    }
   ],
   "source": [
    "ds.head()"
   ]
  },
  {
   "cell_type": "markdown",
   "metadata": {},
   "source": [
    "Now, we must use the actual data to calculate the invariant mass of the Z Boson. We are relying on Pandas DataFrames' incredible ability to let us only write a single line of code to perform the calculation across every row in the tremendously large CSV file. We are guided again by the equation we wrote above, but we need to now use the numbers in the data."
   ]
  },
  {
   "cell_type": "code",
   "execution_count": 9,
   "metadata": {},
   "outputs": [],
   "source": [
    "invariant_mass_calculated_with_data = np.sqrt(2 * ds.pt1 * ds.pt2 * (np.cosh(ds.eta1 - ds.eta2) - np.cos(ds.phi1 - ds.phi2)))"
   ]
  },
  {
   "cell_type": "markdown",
   "metadata": {},
   "source": [
    "We are now instructed to copy/paste given code that will tell us if we did the calculation correctly. That code is pasted below:"
   ]
  },
  {
   "cell_type": "code",
   "execution_count": 10,
   "metadata": {},
   "outputs": [
    {
     "name": "stdout",
     "output_type": "stream",
     "text": [
      "The first five values for the invariant mass of the Z Boson are (in GeV with c = 1)\n",
      " [0    17.490875\n",
      "1    11.551382\n",
      "2     9.160909\n",
      "3    12.475632\n",
      "4    14.314303\n",
      "dtype: float64].\n",
      "Invariant mass values are correct!\n"
     ]
    }
   ],
   "source": [
    "print(f\"The first five values for the invariant mass of the Z Boson are (in GeV with c = 1)\\n [{invariant_mass_calculated_with_data[0:5]}].\")\n",
    "\n",
    "if 14.31 <= invariant_mass_calculated_with_data.values[4] <= 14.32:\n",
    "    print('Invariant mass values are correct!')\n",
    "else:\n",
    "    print(\"\"\"\n",
    "    Calculated values are not yet correct. Please check the calculation one more time. \n",
    "    Remember: don´t change the name of the variable invariant_mass.\"\"\")"
   ]
  },
  {
   "cell_type": "markdown",
   "metadata": {},
   "source": [
    "### Question 4: Creating the Histogram"
   ]
  },
  {
   "cell_type": "code",
   "execution_count": 11,
   "metadata": {},
   "outputs": [
    {
     "data": {
      "image/png": "[encoded data removed]",
      "text/plain": [
       "<Figure size 432x288 with 1 Axes>"
      ]
     },
     "metadata": {
      "needs_background": "light"
     },
     "output_type": "display_data"
    }
   ],
   "source": [
    "plt.rcParams.update({\n",
    "    \"text.usetex\": True,\n",
    "    \"font.family\": \"sans-serif\",\n",
    "    \"font.sans-serif\": [\"Helvetica\"]})\n",
    "plt.rcParams.update({\n",
    "    \"text.usetex\": True,\n",
    "    \"font.family\": \"serif\",\n",
    "    \"font.serif\": [\"Palatino\"],\n",
    "})\n",
    "plt.rcParams.update({\n",
    "  \"text.usetex\": True,\n",
    "  \"font.family\": \"Helvetica\"\n",
    "})\n",
    "\n",
    "plt.hist(\n",
    "    invariant_mass_calculated_with_data, \n",
    "    bins = 200, \n",
    "    range = (np.min(invariant_mass_calculated_with_data), np.max(invariant_mass_calculated_with_data)),\n",
    "    color = \"black\")\n",
    "plt.xlabel(r'Invariant mass $[GeV]$')\n",
    "plt.ylabel(r'Number of events')\n",
    "plt.title(r'Histogram of invariant mass values.')\n",
    "plt.show()"
   ]
  },
  {
   "cell_type": "markdown",
   "metadata": {},
   "source": [
    "Our first histogram has a fairly odd shape. We notice three peaks. The first looks like it's around 0-10 somewhere. That would correspond to the invariant mass of the two Muons being equal to about 0-10. Of course, if this were the case, then we cannot conclude that that pair of Muons came from a $Z$ Boson, because the mass of the $Z$ Boson is about 91 MeV (c = 1 hereafter). Another peak is located at somewhere between 15-30. Once again, if we suppose that the invariant mass of the two Muons is in fact in this range, then the two muons must not have come from a $Z$ Boson. Finally, the last peak we notice is centered around 90, and this is clearly the peak of interest here. Muons whose invariant mass corresponds to this quantity are likely to have come from a $Z$ Boson decay.\n",
    "\n",
    "Of course,we see  that our histogram goes all the way our to 400 GeV. From the Matplotlib plotting function, it's clear that there must be at least a few events where the two Muons' invariant mass is somewhere between 350-400 GeV. Since it's not visible to the eye, we can replot the histogram to exclude invariant masses that are below 80 GeV beyond 115 GeV with the range parameter."
   ]
  },
  {
   "cell_type": "code",
   "execution_count": 12,
   "metadata": {},
   "outputs": [
    {
     "data": {
      "image/png": "[encoded data removed]",
      "text/plain": [
       "<Figure size 432x288 with 1 Axes>"
      ]
     },
     "metadata": {
      "needs_background": "light"
     },
     "output_type": "display_data"
    }
   ],
   "source": [
    "plt.hist(\n",
    "    invariant_mass_calculated_with_data, \n",
    "    bins = 200, \n",
    "    range = (80, 115),\n",
    "    color = \"black\")\n",
    "plt.xlabel(r'Invariant mass $[GeV]$')\n",
    "plt.ylabel(r'Number of events')\n",
    "plt.title(r'Histogram of invariant mass values.')\n",
    "plt.show()"
   ]
  },
  {
   "cell_type": "markdown",
   "metadata": {},
   "source": [
    "Now, we need to fit a function to the histogram data in order to extract information about the $Z$ Boson lifetime. The function in question is Breit-Wigner distribution. It describes the number of events at a particular energy, and includes two other parameters that must be \"guessed\". Those parameters are $M$ and $\\Gamma$. M is the maximum mass value detected, and $\\Gamma$ is the full width at half maximum (FWHM) of the distribution.\n",
    "\n",
    "We are now tasked with making guesses for these parameters. Using the above histogram, we can eyeball what might be a good value for $\\Gamma$ by guessing the width of the distribution at the horizonal line characterized by half the value corresponding to the maximum of the distribution. It appears the peak of the is about $975$ at a value of $91$ or $92$ GeV. Thus, our guess for $M$ is $91.5$GeV Thus, halving $975$ gives us $487.5$. Traveling down to the imaginary horizonal line at $487.5$ (number of events), we can guess that $\\Gamma$ is equal to $93-87 = 6$."
   ]
  },
  {
   "cell_type": "code",
   "execution_count": 13,
   "metadata": {},
   "outputs": [],
   "source": [
    "initial_guesses_for_BW_fit = [6, 91.5, -2, 200, 13000]"
   ]
  },
  {
   "cell_type": "markdown",
   "metadata": {},
   "source": [
    "We will now follow the posted code to obtain the fit."
   ]
  },
  {
   "cell_type": "code",
   "execution_count": 14,
   "metadata": {},
   "outputs": [
    {
     "name": "stdout",
     "output_type": "stream",
     "text": [
      "Optimizing...\n",
      "gamma = 3.9240905958861076 pm 0.07790682578908233\n",
      "(M) = 90.79835810508943 pm 0.030519464667059126\n",
      "a = -1.640058529707502 pm 0.1266756978607518\n",
      "b = 167.95350700235318 pm 12.78731048547556\n",
      "A = 124862.37540293108 pm 1719.9974609787575\n"
     ]
    },
    {
     "name": "stderr",
     "output_type": "stream",
     "text": [
      "findfont: Font family ['Helvetica'] not found. Falling back to DejaVu Sans.\n"
     ]
    },
    {
     "data": {
      "image/png": "[encoded data removed]",
      "text/plain": [
       "<Figure size 432x288 with 1 Axes>"
      ]
     },
     "metadata": {
      "needs_background": "light"
     },
     "output_type": "display_data"
    }
   ],
   "source": [
    "lower_limit_of_distribution = 70\n",
    "upper_limit_of_distribution = 110\n",
    "total_bins = 100\n",
    "\n",
    "mass_histogram = plt.hist(\n",
    "    invariant_mass_calculated_with_data[(invariant_mass_calculated_with_data > lower_limit_of_distribution) & \n",
    "                                        (invariant_mass_calculated_with_data < upper_limit_of_distribution)], \n",
    "    bins = total_bins, \n",
    "    range = (lower_limit_of_distribution, upper_limit_of_distribution))\n",
    "\n",
    "y_events = mass_histogram[0]\n",
    "x_center_of_bins = 0.5 * (mass_histogram[1][0:-1] + mass_histogram[1][1:] )\n",
    "\n",
    "def breit_wigner_fit(E, gamma, M, a, b, A):\n",
    "    constant_numerator = 2 * np.sqrt(2) * M * gamma * (np.sqrt(np.power(M, 2) * np.sqrt(np.power(M, 2) + np.power(gamma, 2))))\n",
    "    constant_denominator = np.pi * np.sqrt(np.power(M, 2) + np.sqrt(np.power(M, 2) * (np.power(M, 2) + np.power(gamma, 2))))\n",
    "    denominator = np.power(np.power(E, 2) - np.power(M, 2), 2) + np.power(M, 2) * np.power(gamma, 2)                                                  \n",
    "    return a * E + b + A * ((constant_numerator/constant_denominator)/denominator)\n",
    "\n",
    "from scipy.optimize import curve_fit\n",
    "best, covariance = curve_fit(\n",
    "    breit_wigner_fit, \n",
    "    x_center_of_bins, \n",
    "    y_events, \n",
    "    p0 = initial_guesses_for_BW_fit, \n",
    "    sigma = np.sqrt(y_events))\n",
    "error = np.sqrt(np.diag(covariance))\n",
    "    \n",
    "print(\"Optimizing...\")\n",
    "print(f\"\"\"gamma = {best[0]} pm {error[0]}\n",
    "(M) = {best[1]} pm {error[1]}\n",
    "a = {best[2]} pm {error[2]}\n",
    "b = {best[3]} pm {error[3]}\n",
    "A = {best[4]} pm {error[4]}\"\"\")\n",
    "\n",
    "plt.plot(x_center_of_bins, breit_wigner_fit(x_center_of_bins, *best), 'r-', label='gamma = {}, M = {}'.format(best[0], best[1]))\n",
    "plt.xlabel(r'Invariant mass [GeV]')\n",
    "plt.ylabel(r'Number of event')\n",
    "plt.title(r'Invariant Mass with Breit-Wigner Fit')\n",
    "plt.legend()\n",
    "plt.show()"
   ]
  },
  {
   "cell_type": "markdown",
   "metadata": {},
   "source": [
    "### Question 5: Describe the Plot and Fit"
   ]
  },
  {
   "cell_type": "markdown",
   "metadata": {},
   "source": [
    "The first thing we point out is that the fit is decent (except for the right tail. As the background exponentially decays, our fit gets more \"loose\".) Our initial guesses were $\\Gamma = 6$ and $M = 91.5$, and we have extracted that $\\Gamma = 3.92 \\pm 0.08$ and $M = 90.8 \\pm 0.03$. We can say with some certainty that this distribution of invariant mass of the two Muons comes from the particular decay channel of the $Z$ Boson. With our experimental data, we define the mass of the $Z$ Boson to be $M_{Z^{0}} = 90.8 \\pm 0.03$ GeV. The PDG reports that ${M_{Z^{0}}} = 91.1876 \\pm 0.0021$ GeV. Unfortunately, we did not overlap with the PDG reported value, not even within 5$\\sigma$. However, we might guess that the PDG has used a tremendous amount more data to perform the measurement of the mass of the $Z$ Boson that they also have improved statistics."
   ]
  },
  {
   "cell_type": "markdown",
   "metadata": {},
   "source": [
    "### Question 6: Calculate the Lifetime of the $Z$ Boson"
   ]
  },
  {
   "cell_type": "markdown",
   "metadata": {},
   "source": [
    "We know that the lifetime of the $Z$ Boson (as is given) is calculated with the parameter $\\Gamma$ in the following way: $\\Gamma = \\frac{\\hbar}{\\tau}$. Rearranging, all we need to compute is $\\frac{\\hbar}{\\Gamma}$ to extract the lifetime of the $Z$ Boson. Taking care with units, we proceed."
   ]
  },
  {
   "cell_type": "code",
   "execution_count": 15,
   "metadata": {},
   "outputs": [],
   "source": [
    "from scipy.constants import hbar, speed_of_light"
   ]
  },
  {
   "cell_type": "code",
   "execution_count": 20,
   "metadata": {},
   "outputs": [
    {
     "name": "stdout",
     "output_type": "stream",
     "text": [
      "We calculated the lifetime of the Z Boson to be 1.6775466910161886e-25 seconds.\n"
     ]
    }
   ],
   "source": [
    "lifetime_of_Z = hbar / (best[0] * (1.602e-10))\n",
    "print(f\"We calculated the lifetime of the Z Boson to be {lifetime_of_Z} seconds.\")"
   ]
  },
  {
   "cell_type": "markdown",
   "metadata": {},
   "source": [
    "### Question 7: When was the $Z$ Boson first detected, and what is it physically?"
   ]
  },
  {
   "cell_type": "markdown",
   "metadata": {},
   "source": [
    "The $Z$ Boson is a vector Boson (spin 1) that mediates the weak interaction. In other words, it is a force-carrying particle. The $Z$ Boson was discovered in 1983 at CERN with the Super Proton Synchrotron."
   ]
  },
  {
   "cell_type": "markdown",
   "metadata": {},
   "source": [
    "### Question 8: If $E$ and $\\textbf{P}$ could be measured with infinite precision, would there be a single peak in the invariant mass distribution?"
   ]
  },
  {
   "cell_type": "markdown",
   "metadata": {},
   "source": [
    "If the energy and momentum of the di-Muon decay could be measured with infinite precision, then the equation we derived for the invariant mass would yield an exact result. However, because there are several other processes that may produce two Muons, we cannot say with certainty that there will only be a single peak in the invariant mass distribution. Our original histogram in fact featured two other peaks, one centered at about $0-1$ GeV (likely systematics issue) and another one centered around $15-30$ GeV. We are led to think that there there will likely not be just a single peak in the distribution."
   ]
  },
  {
   "cell_type": "markdown",
   "metadata": {},
   "source": [
    "### Question 9: Creation of Histogram of Whole Distribution"
   ]
  },
  {
   "cell_type": "markdown",
   "metadata": {},
   "source": [
    "We now produce a plot that will inform us how the number of di-Muon detections vary as a function of the invariant mass. We will simply copy/paste the provided code to produce the plot. "
   ]
  },
  {
   "cell_type": "code",
   "execution_count": 18,
   "metadata": {},
   "outputs": [
    {
     "data": {
      "image/png": "[encoded data removed]",
      "text/plain": [
       "<Figure size 432x288 with 1 Axes>"
      ]
     },
     "metadata": {
      "needs_background": "light"
     },
     "output_type": "display_data"
    }
   ],
   "source": [
    "invariant_mass_1 = ds['M']\n",
    "\n",
    "number_of_bins = 500\n",
    "inv_mass_log = np.log10(invariant_mass_1)\n",
    "weights = []\n",
    "for masses in invariant_mass_1:\n",
    "    weights.append(number_of_bins / np.log(10) / masses)\n",
    "\n",
    "plt.hist(\n",
    "    inv_mass_log, \n",
    "    number_of_bins, \n",
    "    range = (-0.5, 2.5), \n",
    "    weights = weights, \n",
    "    lw = 0, \n",
    "    color = \"darkgrey\")\n",
    "plt.yscale('log')\n",
    "plt.xlabel(r'$log10(invariant mass) [log10(GeV)]$')\n",
    "plt.ylabel(r'N')\n",
    "plt.title(r'The histogram of the invariant masses of two muons')\n",
    "plt.show()"
   ]
  },
  {
   "cell_type": "markdown",
   "metadata": {},
   "source": [
    "### Question 10: Does the above histogram appear similar to the one published by CMS?"
   ]
  },
  {
   "cell_type": "markdown",
   "metadata": {},
   "source": [
    "The histogram we've produced does in fact look similar to the one published by CMS. From the right to the left, it includes the familiar peaks produced by the decay of the $Z$ Boson to two Muons, the peak for $\\Upsilon$, $\\Psi'$, $J/\\Psi$, $\\phi$, $\\rho$ and $\\omega$, and perhaps barely $\\eta$. The peak for the $Z$ Boson coincides with a little less than 100GeV on this plot, which is what we've reproduced numerous times in this analysis. Also, it is clear from this plot that, if peaks indicate particles from which the two Muons were produced, then there are multiple processes that contribute to the producion of two muons. Because we are plotting the invariant mass on a logarithmic plot, we have managed to effectively separate the peaks near 0-1 GeV and 15-30GeV invariant mass into their constituent processes."
   ]
  },
  {
   "cell_type": "markdown",
   "metadata": {},
   "source": [
    "### Question 11: How does pseudorapidity affect the measurement of the invariant mass?"
   ]
  },
  {
   "cell_type": "markdown",
   "metadata": {},
   "source": [
    "We will now separate the data provided to us into Muons measured with high and low pseudorapidity. We are performing this study in order to learn if pseudorapidity affects the measurement of the invariant mass."
   ]
  },
  {
   "cell_type": "code",
   "execution_count": 22,
   "metadata": {},
   "outputs": [
    {
     "data": {
      "image/png": "[encoded data removed]",
      "text/plain": [
       "<Figure size 432x288 with 1 Axes>"
      ]
     },
     "metadata": {
      "needs_background": "light"
     },
     "output_type": "display_data"
    }
   ],
   "source": [
    "small_pseuodrapidity = ds[(np.abs(ds.eta1) < 0.38) & (np.abs(ds.eta2) < 0.38)]\n",
    "large_pseuodrapidity = ds[(np.abs(ds.eta1) > 1.52) & (np.abs(ds.eta2) > 1.52)]\n",
    "\n",
    "invariant_mass_with_high_pseudorapidity = large_pseuodrapidity['M']\n",
    "invariant_mass_with_low_pseudorapidity = small_pseuodrapidity['M']\n",
    "\n",
    "plt.hist(\n",
    "    invariant_mass_with_high_pseudorapidity, \n",
    "    bins = 120, \n",
    "    range = (60, 120),\n",
    "    color = \"red\",\n",
    "    alpha = 0.3\n",
    ")\n",
    "plt.hist(\n",
    "    invariant_mass_with_low_pseudorapidity, \n",
    "    bins = 120, \n",
    "    range = (60, 120),\n",
    "    color = \"blue\",\n",
    "    alpha = 0.3\n",
    ")\n",
    "plt.ylabel(r'N', fontsize = 20)\n",
    "plt.legend(['high pseudorapidity', 'low pseudorapidity'])\n",
    "plt.xlabel(r'Invariant Mass [GeV]', fontsize = 20)\n",
    "plt.show()"
   ]
  },
  {
   "cell_type": "markdown",
   "metadata": {},
   "source": [
    "We see that the width of the peak is much broader in the case of low pseudorapidity, which physically corresponds to the Muons striking the detector at angles nearing 90 degrees perpendicular to the beam direction. The peak is much narrower at high pseudorapidity.  "
   ]
  },
  {
   "cell_type": "code",
   "execution_count": null,
   "metadata": {},
   "outputs": [],
   "source": []
  }
 ],
 "metadata": {
  "kernelspec": {
   "display_name": "Python 3.7 (py37)",
   "language": "python",
   "name": "py37"
  },
  "language_info": {
   "codemirror_mode": {
    "name": "ipython",
    "version": 3
   },
   "file_extension": ".py",
   "mimetype": "text/x-python",
   "name": "python",
   "nbconvert_exporter": "python",
   "pygments_lexer": "ipython3",
   "version": "3.7.4"
  }
 },
 "nbformat": 4,
 "nbformat_minor": 4
}
